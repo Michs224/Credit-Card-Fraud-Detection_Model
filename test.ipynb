{
 "cells": [
  {
   "cell_type": "code",
   "execution_count": 2,
   "metadata": {},
   "outputs": [],
   "source": [
    "import import_ipynb"
   ]
  },
  {
   "cell_type": "code",
   "execution_count": 3,
   "metadata": {},
   "outputs": [
    {
     "name": "stdout",
     "output_type": "stream",
     "text": [
      "importing Jupyter notebook from Main.ipynb\n",
      "<class 'pandas.core.frame.DataFrame'>\n",
      "Index: 283726 entries, 0 to 284806\n",
      "Data columns (total 31 columns):\n",
      " #   Column  Non-Null Count   Dtype  \n",
      "---  ------  --------------   -----  \n",
      " 0   Time    283726 non-null  float64\n",
      " 1   V1      283726 non-null  float64\n",
      " 2   V2      283726 non-null  float64\n",
      " 3   V3      283726 non-null  float64\n",
      " 4   V4      283726 non-null  float64\n",
      " 5   V5      283726 non-null  float64\n",
      " 6   V6      283726 non-null  float64\n",
      " 7   V7      283726 non-null  float64\n",
      " 8   V8      283726 non-null  float64\n",
      " 9   V9      283726 non-null  float64\n",
      " 10  V10     283726 non-null  float64\n",
      " 11  V11     283726 non-null  float64\n",
      " 12  V12     283726 non-null  float64\n",
      " 13  V13     283726 non-null  float64\n",
      " 14  V14     283726 non-null  float64\n",
      " 15  V15     283726 non-null  float64\n",
      " 16  V16     283726 non-null  float64\n",
      " 17  V17     283726 non-null  float64\n",
      " 18  V18     283726 non-null  float64\n",
      " 19  V19     283726 non-null  float64\n",
      " 20  V20     283726 non-null  float64\n",
      " 21  V21     283726 non-null  float64\n",
      " 22  V22     283726 non-null  float64\n",
      " 23  V23     283726 non-null  float64\n",
      " 24  V24     283726 non-null  float64\n",
      " 25  V25     283726 non-null  float64\n",
      " 26  V26     283726 non-null  float64\n",
      " 27  V27     283726 non-null  float64\n",
      " 28  V28     283726 non-null  float64\n",
      " 29  Amount  283726 non-null  float64\n",
      " 30  Class   283726 non-null  int64  \n",
      "dtypes: float64(30), int64(1)\n",
      "memory usage: 69.3 MB\n"
     ]
    }
   ],
   "source": [
    "import Main"
   ]
  },
  {
   "cell_type": "code",
   "execution_count": 1,
   "metadata": {},
   "outputs": [
    {
     "ename": "ModuleNotFoundError",
     "evalue": "No module named 'x'",
     "output_type": "error",
     "traceback": [
      "\u001b[1;31m---------------------------------------------------------------------------\u001b[0m",
      "\u001b[1;31mModuleNotFoundError\u001b[0m                       Traceback (most recent call last)",
      "Cell \u001b[1;32mIn[1], line 1\u001b[0m\n\u001b[1;32m----> 1\u001b[0m \u001b[38;5;28;01mimport\u001b[39;00m \u001b[38;5;21;01mx\u001b[39;00m\u001b[38;5;241m,\u001b[39m\u001b[38;5;21;01my\u001b[39;00m\n",
      "\u001b[1;31mModuleNotFoundError\u001b[0m: No module named 'x'"
     ]
    }
   ],
   "source": [
    "import x,y"
   ]
  },
  {
   "cell_type": "code",
   "execution_count": null,
   "metadata": {},
   "outputs": [],
   "source": [
    "smote=SMOTE(sampling_strategy=\"auto\",random_state=42)\n",
    "rus=RandomUnderSampler(sampling_strategy=\"auto\",random_state=42)\n",
    "\n",
    "x_sm,y_sm=smote.fit_resample(x,y)\n",
    "print(x_sm.shape,y_sm.shape)\n",
    "print(x_sm.head())\n",
    "print(y_sm.head())\n",
    "print(y_sm.value_counts())\n",
    "\n",
    "x_smote_rus,y_smote_rus=rus.fit_resample(x_sm,y_sm)\n",
    "x_train_smote_rus,x_test_smote_rus,y_train_smote_rus,y_test_smote_rus=train_test_split(x_smote_rus,y_smote_rus,test_size=0.2,random_state=42)\n",
    "\n",
    "List_x_y.append((\"SMOTE+ROS\",x_train_smote_rus,y_train_smote_rus,x_test_smote_rus,y_test_smote_rus))"
   ]
  },
  {
   "cell_type": "code",
   "execution_count": null,
   "metadata": {},
   "outputs": [],
   "source": [
    "print(x_smote_rus.head())\n",
    "print(y_smote_rus.head())\n",
    "print(x_smote_rus.shape,y_smote_rus.shape)\n",
    "print(y_smote_rus.value_counts())"
   ]
  },
  {
   "cell_type": "code",
   "execution_count": null,
   "metadata": {},
   "outputs": [],
   "source": [
    "print(x_train_smote_rus.head())\n",
    "print(y_train_smote_rus.head())\n",
    "print(x_train_smote_rus.shape,y_train_smote_rus.shape)\n",
    "print(y_train_smote_rus.value_counts())"
   ]
  },
  {
   "cell_type": "code",
   "execution_count": null,
   "metadata": {},
   "outputs": [],
   "source": [
    "adasyn=ADASYN(sampling_strategy=\"auto\",random_state=42)\n",
    "ncr = NeighbourhoodCleaningRule(sampling_strategy=\"auto\",n_neighbors=3,threshold_cleaning=0.5,n_jobs=-1)\n",
    "\n",
    "x_ad,y_ad=adasyn.fit_resample(x,y)\n",
    "\n",
    "print(x_ad.shape,y_ad.shape)\n",
    "print(x_ad.head())\n",
    "print(y_ad.head())\n",
    "print(y_ad.value_counts())\n",
    "\n",
    "x_adasyn_ncr,y_adasyn_ncr=ncr.fit_resample(x_ad,y_ad)\n",
    "x_train_adasyn_ncr,x_test_adasyn_ncr,y_train_adasyn_ncr,y_test_adasyn_ncr=train_test_split(x_adasyn_ncr,y_adasyn_ncr,test_size=0.2,random_state=42)\n",
    "\n",
    "List_x_y.append((\"ADASYN+NCR\",x_train_adasyn_ncr,y_train_adasyn_ncr,x_test_adasyn_ncr,y_test_adasyn_ncr))"
   ]
  },
  {
   "cell_type": "code",
   "execution_count": null,
   "metadata": {},
   "outputs": [],
   "source": [
    "print(x_adasyn_ncr.head())\n",
    "print(y_adasyn_ncr.head())\n",
    "print(x_adasyn_ncr.shape,y_adasyn_ncr.shape)\n",
    "print(y_adasyn_ncr.value_counts())"
   ]
  },
  {
   "cell_type": "code",
   "execution_count": null,
   "metadata": {},
   "outputs": [],
   "source": [
    "print(x_train_adasyn_ncr.head())\n",
    "print(y_train_adasyn_ncr.head())\n",
    "print(x_train_adasyn_ncr.shape,y_train_adasyn_ncr.shape)\n",
    "print(y_train_adasyn_ncr.value_counts())"
   ]
  }
 ],
 "metadata": {
  "kernelspec": {
   "display_name": "MachineLearningEnv",
   "language": "python",
   "name": "python3"
  },
  "language_info": {
   "codemirror_mode": {
    "name": "ipython",
    "version": 3
   },
   "file_extension": ".py",
   "mimetype": "text/x-python",
   "name": "python",
   "nbconvert_exporter": "python",
   "pygments_lexer": "ipython3",
   "version": "3.10.9"
  }
 },
 "nbformat": 4,
 "nbformat_minor": 2
}
